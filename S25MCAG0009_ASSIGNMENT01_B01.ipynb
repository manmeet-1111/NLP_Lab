{
  "nbformat": 4,
  "nbformat_minor": 0,
  "metadata": {
    "colab": {
      "provenance": []
    },
    "kernelspec": {
      "name": "python3",
      "display_name": "Python 3"
    },
    "language_info": {
      "name": "python"
    }
  },
  "cells": [
    {
      "cell_type": "code",
      "execution_count": 30,
      "metadata": {
        "colab": {
          "base_uri": "https://localhost:8080/"
        },
        "id": "1bCKSIr23pSq",
        "outputId": "f6e861c8-0a96-4562-8f1c-58bb4abe32f0"
      },
      "outputs": [
        {
          "output_type": "stream",
          "name": "stdout",
          "text": [
            "['https://www.samviliam.com']\n"
          ]
        }
      ],
      "source": [
        "import re\n",
        "sentence = \"I love spending time at https://www.samviliam.com\"\n",
        "url = re.findall(r'https?://[^\\s]+',sentence)\n",
        "print(url)"
      ]
    },
    {
      "cell_type": "code",
      "source": [
        "sentence = \"My email id is manmeetmk2005@gmail.com\"\n",
        "email = re.findall(r'\\b[\\w.-]+@[\\w.-]+\\.\\w+\\b', example)\n",
        "print(sentence)"
      ],
      "metadata": {
        "colab": {
          "base_uri": "https://localhost:8080/"
        },
        "id": "I2yCoc-d46q2",
        "outputId": "76c12178-5715-4daa-9cd0-92dc8e6c3795"
      },
      "execution_count": 29,
      "outputs": [
        {
          "output_type": "stream",
          "name": "stdout",
          "text": [
            "My email id is manmeetmk2005@gmail.com\n"
          ]
        }
      ]
    },
    {
      "cell_type": "code",
      "source": [
        "sentence = \"this is a line. #ram is a good boy.\"\n",
        "hashtags = re.findall(r'#\\w+', sentence)\n",
        "print(hashtags)"
      ],
      "metadata": {
        "colab": {
          "base_uri": "https://localhost:8080/"
        },
        "id": "c6o5kCp96w7D",
        "outputId": "86cfcdea-894e-4fa1-8d8e-b76d3d157764"
      },
      "execution_count": 28,
      "outputs": [
        {
          "output_type": "stream",
          "name": "stdout",
          "text": [
            "['#ram']\n"
          ]
        }
      ]
    },
    {
      "cell_type": "code",
      "source": [
        "sentence = \"hi @Ajit,could you please help me in this work.\"\n",
        "result = re.findall(r'@\\w+', sentence)\n",
        "print(result)\n"
      ],
      "metadata": {
        "colab": {
          "base_uri": "https://localhost:8080/"
        },
        "id": "j-U2QUxj7cCG",
        "outputId": "4352e846-1ca0-4081-88d1-c7b19adb2895"
      },
      "execution_count": 27,
      "outputs": [
        {
          "output_type": "stream",
          "name": "stdout",
          "text": [
            "['@Ajit']\n"
          ]
        }
      ]
    },
    {
      "cell_type": "code",
      "source": [
        "sentence = \"8853147 sq. km of area rahul purchased.\"\n",
        "result = re.findall(r'\\d+', sentence)\n",
        "print(result)\n"
      ],
      "metadata": {
        "colab": {
          "base_uri": "https://localhost:8080/"
        },
        "id": "uZMvMOEf7hDq",
        "outputId": "96c1bdbd-99d4-4376-d205-c043e6358fc3"
      },
      "execution_count": 26,
      "outputs": [
        {
          "output_type": "stream",
          "name": "stdout",
          "text": [
            "['8853147']\n"
          ]
        }
      ]
    },
    {
      "cell_type": "code",
      "source": [
        "import string\n",
        "\n",
        "sentence = \"There were #24506 people in that fair. @His parents were also there.\"\n",
        "result = re.findall(r'[{}]'.format(re.escape(string.punctuation)), sentence)\n",
        "print(result)\n"
      ],
      "metadata": {
        "colab": {
          "base_uri": "https://localhost:8080/"
        },
        "id": "dabVuQQU7hYL",
        "outputId": "a3571ec3-4268-45a0-ad8c-61f145fba2e7"
      },
      "execution_count": 25,
      "outputs": [
        {
          "output_type": "stream",
          "name": "stdout",
          "text": [
            "['#', '.', '@', '.']\n"
          ]
        }
      ]
    },
    {
      "cell_type": "code",
      "source": [
        "sentences = [\"ABCED3193P\", \"lEcGD012eg\"]\n",
        "for sentence in sentences:\n",
        "    match = re.fullmatch(r'[A-Z]{5}[0-9]{4}[A-Z]', sentence)\n",
        "    print(True if match else False)\n"
      ],
      "metadata": {
        "colab": {
          "base_uri": "https://localhost:8080/"
        },
        "id": "5HtT15St7hmP",
        "outputId": "0a9b6d36-e454-4a5f-dd1f-7028ab7953a6"
      },
      "execution_count": 24,
      "outputs": [
        {
          "output_type": "stream",
          "name": "stdout",
          "text": [
            "True\n",
            "False\n"
          ]
        }
      ]
    },
    {
      "cell_type": "code",
      "source": [
        "sentence = \"heyyy this is a verrrry loong texttt\"\n",
        "result = re.sub(r'(.)\\1+', r'\\1', sentence)\n",
        "print(result)\n"
      ],
      "metadata": {
        "colab": {
          "base_uri": "https://localhost:8080/"
        },
        "id": "MY_goRiE7hyf",
        "outputId": "47faddc9-b414-4e0b-d1e6-464aed7e40a3"
      },
      "execution_count": 23,
      "outputs": [
        {
          "output_type": "stream",
          "name": "stdout",
          "text": [
            "hey this is a very long text\n"
          ]
        }
      ]
    },
    {
      "cell_type": "code",
      "source": [
        "sentence = \"9990001796 is a phone number of PMO office\"\n",
        "result = re.findall(r'\\b[789]\\d{9}\\b', sentence)\n",
        "print(result)\n"
      ],
      "metadata": {
        "colab": {
          "base_uri": "https://localhost:8080/"
        },
        "id": "VQaqRAee7icp",
        "outputId": "be4538c6-3492-441f-e2b1-46ebe3bd656b"
      },
      "execution_count": 22,
      "outputs": [
        {
          "output_type": "stream",
          "name": "stdout",
          "text": [
            "['9990001796']\n"
          ]
        }
      ]
    },
    {
      "cell_type": "code",
      "source": [
        "sentence = \"Ajit Doval is the best National Security Advisor so far.\"\n",
        "result = re.findall(r'\\b[A-Z][a-z]*\\b', sentence)\n",
        "print(result)\n"
      ],
      "metadata": {
        "colab": {
          "base_uri": "https://localhost:8080/"
        },
        "id": "YM64Hy3-7ipI",
        "outputId": "d9fb3853-49ae-4b16-96ef-dba26b542e4f"
      },
      "execution_count": 21,
      "outputs": [
        {
          "output_type": "stream",
          "name": "stdout",
          "text": [
            "['Ajit', 'Doval', 'National', 'Security', 'Advisor']\n"
          ]
        }
      ]
    }
  ]
}