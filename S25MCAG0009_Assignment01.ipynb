{
  "nbformat": 4,
  "nbformat_minor": 0,
  "metadata": {
    "colab": {
      "provenance": []
    },
    "kernelspec": {
      "name": "python3",
      "display_name": "Python 3"
    },
    "language_info": {
      "name": "python"
    }
  },
  "cells": [
    {
      "cell_type": "code",
      "execution_count": null,
      "metadata": {
        "id": "fvsRbNre8QAp",
        "colab": {
          "base_uri": "https://localhost:8080/"
        },
        "outputId": "8f0603cb-0c24-4d78-9661-daca2a634506"
      },
      "outputs": [
        {
          "output_type": "stream",
          "name": "stdout",
          "text": [
            "URL: ['https://www.xy123z.com/']\n",
            "Email ID: ['xyz111@gmail.com']\n",
            "Hashtags: ['#Sushant']\n",
            "Mentions: ['@Ajit']\n",
            "Numbers: ['8853147']\n",
            "Punctuations: ['#', '.', '#', '(', ')']\n",
            "Valid PAN 1: True\n",
            "Valid PAN 2: False\n",
            "Without repetitions: hey this is a very long text\n",
            "Mobile Numbers: ['9990001796']\n",
            "Capital Words: ['Ajit', 'Doval', 'National', 'Security', 'Advisor']\n"
          ]
        }
      ],
      "source": [
        "import re\n",
        "# 1. Find URL in a sentence\n",
        "example1 = \"I love spending time at https://www.xy123z.com/\"\n",
        "pattern = r\"https?://[^\\s]+\"\n",
        "print(\"URL:\", re.findall(pattern, example1))\n",
        "\n",
        "# 2. Get email id from the sentence\n",
        "example2 = \"My email id is xyz111@gmail.com\"\n",
        "pattern = r\"[a-zA-Z0-9._%+-]+@[a-zA-Z0-9.-]+\\.[a-zA-Z]{2,}\"\n",
        "print(\"Email ID:\", re.findall(pattern, example2))\n",
        "\n",
        "# 3. Find hashtags\n",
        "example3 = \"#Sushant is trending now in the world.\"\n",
        "pattern = r\"#\\w+\"\n",
        "print(\"Hashtags:\", re.findall(pattern, example3))\n",
        "\n",
        "# 4. Find mentions\n",
        "example4 = \"@Ajit, please help me\"\n",
        "pattern = r\"@\\w+\"\n",
        "print(\"Mentions:\", re.findall(pattern, example4))\n",
        "\n",
        "# 5. Find numbers\n",
        "example5 = \"8853147 sq. km of area washed away in floods\"\n",
        "pattern = r\"\\d+\"\n",
        "print(\"Numbers:\", re.findall(pattern, example5))\n",
        "\n",
        "# 6. Find punctuations\n",
        "example6 = \"Corona virus killed #24506 people. #Corona is un(tolerable)\"\n",
        "pattern = r\"[^\\w\\s]\"   # anything not word/space = punctuation\n",
        "print(\"Punctuations:\", re.findall(pattern, example6))\n",
        "\n",
        "# 7. Validate PAN Number\n",
        "example7a = \"ABCED3193P\"\n",
        "example7b = \"lEcGD012eg\"\n",
        "pan_pattern = r\"^[A-Z]{5}[0-9]{4}[A-Z]$\"\n",
        "print(\"Valid PAN 1:\", bool(re.match(pan_pattern, example7a)))\n",
        "print(\"Valid PAN 2:\", bool(re.match(pan_pattern, example7b)))\n",
        "\n",
        "# 8. Remove repetitive characters from sentence\n",
        "example8 = \"heyyy this is a verrrry loong texttt\"\n",
        "no_repeat_text = re.sub(r'(.)\\1+', r'\\1', example8)\n",
        "print(\"Without repetitions:\", no_repeat_text)\n",
        "\n",
        "# 9. Find Indian mobile numbers\n",
        "example9 = \"9990001796 is a phone number of PMO office\"\n",
        "mobile_pattern = r\"\\b[6-9]\\d{9}\\b\"\n",
        "print(\"Mobile Numbers:\", re.findall(mobile_pattern, example9))\n",
        "\n",
        "# 10. Extract words starting with a capital letter\n",
        "example10 = \"Ajit Doval is the best National Security Advisor so far.\"\n",
        "capital_word_pattern = r\"\\b[A-Z][a-zA-Z]*\\b\"\n",
        "print(\"Capital Words:\", re.findall(capital_word_pattern, example10))"
      ]
    }
  ]
}